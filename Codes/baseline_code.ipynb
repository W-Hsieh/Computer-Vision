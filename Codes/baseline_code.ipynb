{
 "cells": [
  {
   "cell_type": "code",
   "execution_count": 1,
   "id": "3549697d",
   "metadata": {
    "ExecuteTime": {
     "end_time": "2023-10-19T15:21:56.360106Z",
     "start_time": "2023-10-19T15:18:50.352527Z"
    }
   },
   "outputs": [],
   "source": [
    "import numpy as np\n",
    "import pandas as pd\n",
    "from skimage.io import imread\n",
    "from sklearn.metrics.pairwise import cosine_similarity\n",
    "\n",
    "test_candidates = pd.read_csv('.\\COMP90086_2023_TLLdataset\\\\test_candidates.csv')\n",
    "\n",
    "def get_image_path(img_name, folder):\n",
    "    base_path = '.\\COMP90086_2023_TLLdataset\\\\test\\\\' + folder + '\\\\'\n",
    "    return base_path + img_name + '.jpg'\n",
    "\n",
    "def get_image_vector(image_path):\n",
    "    img = imread(image_path)\n",
    "    return img.flatten().reshape(1, -1)  # Flatten and reshape to 2D for cosine similarity\n",
    "\n",
    "results = []\n",
    "\n",
    "for index, row in test_candidates.iterrows():\n",
    "    left_img_vector = get_image_vector(get_image_path(row['left'], 'left'))\n",
    "    scores = []\n",
    "\n",
    "    for i in range(20):  # for c0 to c19\n",
    "        right_img_vector = get_image_vector(get_image_path(row[f'c{i}'], 'right'))\n",
    "        \n",
    "        score = cosine_similarity(left_img_vector, right_img_vector)[0][0]\n",
    "        scores.append(score)\n",
    "        \n",
    "    results.append(scores)\n",
    "\n",
    "# Convert results to DataFrame\n",
    "results_df = pd.DataFrame(results, columns=[f'c{i}' for i in range(20)])\n",
    "\n",
    "# Insert the 'left' column from test_candidates to results_df\n",
    "results_df.insert(0, 'left', test_candidates['left'])\n",
    "\n",
    "# Save to CSV\n",
    "results_df.to_csv('baseline_results.csv', index=False)"
   ]
  }
 ],
 "metadata": {
  "kernelspec": {
   "display_name": "Python [conda env:CV]",
   "language": "python",
   "name": "conda-env-CV-py"
  },
  "language_info": {
   "codemirror_mode": {
    "name": "ipython",
    "version": 3
   },
   "file_extension": ".py",
   "mimetype": "text/x-python",
   "name": "python",
   "nbconvert_exporter": "python",
   "pygments_lexer": "ipython3",
   "version": "3.8.13"
  },
  "toc": {
   "base_numbering": 1,
   "nav_menu": {},
   "number_sections": true,
   "sideBar": true,
   "skip_h1_title": false,
   "title_cell": "Table of Contents",
   "title_sidebar": "Contents",
   "toc_cell": false,
   "toc_position": {},
   "toc_section_display": true,
   "toc_window_display": false
  }
 },
 "nbformat": 4,
 "nbformat_minor": 5
}
